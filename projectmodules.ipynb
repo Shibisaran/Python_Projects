{
 "cells": [
  {
   "cell_type": "code",
   "execution_count": 1,
   "metadata": {},
   "outputs": [
    {
     "name": "stdout",
     "output_type": "stream",
     "text": [
      "Image saved to source.png\n"
     ]
    }
   ],
   "source": [
    "import cv2\n",
    "\n",
    "def capture_image(output_path):\n",
    "    # Initialize the webcam\n",
    "    cap = cv2.VideoCapture(0)  # 0 is the default camera\n",
    "\n",
    "    # Check if the webcam is opened correctly\n",
    "    if not cap.isOpened():\n",
    "        print(\"Error: Could not open webcam\")\n",
    "        return\n",
    "\n",
    "    # Read a single frame from the webcam\n",
    "    ret, frame = cap.read()\n",
    "\n",
    "    if ret:\n",
    "        # Display the captured frame\n",
    "        cv2.imshow(\"Captured Image\", frame)\n",
    "\n",
    "        # Save the captured image to the specified output path\n",
    "        cv2.imwrite(output_path, frame)\n",
    "        print(f\"Image saved to {output_path}\")\n",
    "    else:\n",
    "        print(\"Error: Could not read frame from webcam\")\n",
    "\n",
    "    # Release the webcam and close windows\n",
    "    cap.release()\n",
    "    cv2.destroyAllWindows()\n",
    "\n",
    "# Example usage\n",
    "output_path = 'source.png'  # Specify the output file name and path\n",
    "capture_image(output_path)\n"
   ]
  },
  {
   "cell_type": "markdown",
   "metadata": {},
   "source": [
    "Module 2 Extract text form Image using Tesseract"
   ]
  },
  {
   "cell_type": "code",
   "execution_count": 1,
   "metadata": {},
   "outputs": [
    {
     "name": "stdout",
     "output_type": "stream",
     "text": [
      "Extracted Text:  \n",
      "\f\n",
      "\n"
     ]
    }
   ],
   "source": [
    "import pytesseract\n",
    "from PIL import Image\n",
    "\n",
    "# Set the path to the Tesseract executable\n",
    "pytesseract.pytesseract.tesseract_cmd = r'C:/Program Files/Tesseract-OCR/tesseract.exe'\n",
    "\n",
    "def extract_text_from_image(image_path, language='eng+tam'):\n",
    "    # Open the image file\n",
    "    img = Image.open(image_path)\n",
    "\n",
    "    # Use pytesseract to do OCR on the image\n",
    "    text = pytesseract.image_to_string(img, lang=language)\n",
    "\n",
    "    return text\n",
    "\n",
    "# Example usage\n",
    "image_path = 'source.png'  # Replace with your image file path\n",
    "extracted_text = extract_text_from_image(image_path, language='eng+tam') \n",
    "print(\"Extracted Text:\", extracted_text)\n",
    "print()\n"
   ]
  },
  {
   "cell_type": "markdown",
   "metadata": {},
   "source": [
    "Module 3 translation"
   ]
  },
  {
   "cell_type": "code",
   "execution_count": 7,
   "metadata": {},
   "outputs": [
    {
     "name": "stdout",
     "output_type": "stream",
     "text": [
      "Detected language code: ta\n"
     ]
    }
   ],
   "source": [
    "from langdetect import detect, DetectorFactory\n",
    "from langdetect.lang_detect_exception import LangDetectException\n",
    "\n",
    "# Ensure consistent results\n",
    "DetectorFactory.seed = 0\n",
    "\n",
    "def detect_language(text):\n",
    "    try:\n",
    "        language_code = detect(text)\n",
    "        return language_code\n",
    "    except LangDetectException:\n",
    "        return \"Error: Language detection failed\"\n",
    "\n",
    "if __name__ == \"__main__\":\n",
    "    text_to_detect = extracted_text\n",
    "    language_code = detect_language(text_to_detect)\n",
    "    print(f\"Detected language code: {language_code}\")\n"
   ]
  },
  {
   "cell_type": "code",
   "execution_count": 8,
   "metadata": {},
   "outputs": [
    {
     "name": "stdout",
     "output_type": "stream",
     "text": [
      "Enter the source language code (e.g., 'en' for English, 'ta' for Tamil, 'hi' for Hindi): \n",
      "Translated text: Hi my nameisShibisaran\n",
      "\n",
      "Coimbatore\n"
     ]
    }
   ],
   "source": [
    "from translate import Translator\n",
    "\n",
    "def translate_text(text, src_lang='auto', dest_lang='en'):\n",
    "    translator = Translator(from_lang=src_lang, to_lang=dest_lang)\n",
    "    translation = translator.translate(text)\n",
    "    return translation\n",
    "\n",
    "if __name__ == \"__main__\":\n",
    "    text_to_translate = extracted_text\n",
    "    print(\"Enter the source language code (e.g., 'en' for English, 'ta' for Tamil, 'hi' for Hindi): \")\n",
    "    source_language = language_code\n",
    "    destination_language = input(\"Enter the destination language code (e.g., 'en' for English, 'ta' for Tamil, 'hi' for Hindi): \")\n",
    "\n",
    "    translated_text = translate_text(text_to_translate, src_lang=source_language, dest_lang=destination_language)\n",
    "    print(f\"Translated text: {translated_text}\")\n"
   ]
  },
  {
   "cell_type": "markdown",
   "metadata": {},
   "source": [
    "Module 4 Text to Speech using PYTTSX3"
   ]
  },
  {
   "cell_type": "code",
   "execution_count": 9,
   "metadata": {},
   "outputs": [],
   "source": [
    "import pyttsx3\n",
    "\n",
    "def text_to_speech(text, language='en+ta'):\n",
    "    # Initialize the TTS engine\n",
    "    engine = pyttsx3.init()\n",
    "\n",
    "    # Set properties before adding anything to speak\n",
    "    # You can adjust the voice, rate, and volume\n",
    "    voices = engine.getProperty('voices')\n",
    "    \n",
    "    # Select voice based on language\n",
    "    if language == 'en':\n",
    "        engine.setProperty('voice', voices[0].id)  # English (default)\n",
    "    elif language == 'ta':\n",
    "        engine.setProperty('voice', voices[1].id)  # Hindi (you may need to adjust this based on your system's voices)\n",
    "    \n",
    "    engine.setProperty('rate', 125)  # Speed of speech\n",
    "    engine.setProperty('volume', 0.9)  # Volume level (0.0 to 1.0)\n",
    "\n",
    "    # Pass the text to be spoken\n",
    "    engine.say(text)\n",
    "\n",
    "    # Wait for the speaking to finish\n",
    "    engine.runAndWait()\n",
    "\n",
    "# Example usage\n",
    "text = translated_text\n",
    "text_to_speech(text)\n"
   ]
  },
  {
   "cell_type": "markdown",
   "metadata": {},
   "source": [
    "Module 5 speech to text using speech recognition"
   ]
  },
  {
   "cell_type": "code",
   "execution_count": null,
   "metadata": {},
   "outputs": [],
   "source": [
    "import speech_recognition as sr\n",
    "\n",
    "def speech_to_text():\n",
    "    # Initialize recognizer\n",
    "    r = sr.Recognizer()\n",
    "\n",
    "    # Use the microphone as the source for input\n",
    "    with sr.Microphone() as source:\n",
    "        print(\"Please say something:\")\n",
    "        \n",
    "        # Adjust the recognizer sensitivity to ambient noise (optional)\n",
    "        r.adjust_for_ambient_noise(source, duration=1)\n",
    "        \n",
    "        # Listen for the first phrase and extract it into audio data\n",
    "        audio = r.listen(source)\n",
    "\n",
    "        try:\n",
    "            # Recognize speech using Google Web Speech API\n",
    "            print(\"Recognizing...\")\n",
    "            text = r.recognize_google(audio)\n",
    "            print(\"You said:\", text)\n",
    "        except sr.UnknownValueError:\n",
    "            print(\"Google Speech Recognition could not understand audio\")\n",
    "        except sr.RequestError as e:\n",
    "            print(f\"Could not request results from Google Speech Recognition service; {e}\")\n",
    "\n",
    "# Example usage\n",
    "speech_to_text()\n"
   ]
  },
  {
   "cell_type": "code",
   "execution_count": 1,
   "metadata": {},
   "outputs": [
    {
     "name": "stdout",
     "output_type": "stream",
     "text": [
      "shibi saran\n"
     ]
    }
   ],
   "source": [
    "class person:\n",
    "    def __init__(self,fname,lname):\n",
    "        self.fname=fname\n",
    "        self.lname=lname\n",
    "    def printname(self):\n",
    "            print(self.fname,self.lname)\n",
    "class student(person):\n",
    "    pass\n",
    "x=student(\"shibi\",\"saran\")\n",
    "x.printname()"
   ]
  }
 ],
 "metadata": {
  "kernelspec": {
   "display_name": "Python 3",
   "language": "python",
   "name": "python3"
  },
  "language_info": {
   "codemirror_mode": {
    "name": "ipython",
    "version": 3
   },
   "file_extension": ".py",
   "mimetype": "text/x-python",
   "name": "python",
   "nbconvert_exporter": "python",
   "pygments_lexer": "ipython3",
   "version": "3.12.7"
  }
 },
 "nbformat": 4,
 "nbformat_minor": 2
}

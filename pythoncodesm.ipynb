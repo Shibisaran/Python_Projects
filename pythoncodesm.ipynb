{
 "cells": [
  {
   "cell_type": "code",
   "execution_count": 1,
   "metadata": {},
   "outputs": [
    {
     "name": "stdout",
     "output_type": "stream",
     "text": [
      "shibi saran\n",
      "<class 'str'>\n",
      "SHIBI SARAN\n",
      "shibi saran\n",
      "Shibi saran\n",
      "Shibi Saran\n",
      "2\n",
      "False\n",
      "-1\n",
      "-1\n",
      "sh1b1 saran\n",
      "False\n",
      "True\n",
      "True\n",
      "False\n",
      "shibi/nsaran\n",
      "['shibi/nsaran']\n",
      "['shibi/nsaran']\n",
      "['shibi', 'saran', 'in', 'MCA', 'student']\n",
      "13\n",
      "5\n",
      "9\n",
      "9\n",
      "('09', '-', '05-3002')\n"
     ]
    }
   ],
   "source": [
    "s=\"shibi saran\"\n",
    "print(s)\n",
    "print(type(s))\n",
    "print(s.upper())\n",
    "print(s.lower())\n",
    "print(s.capitalize())\n",
    "print(s.title())\n",
    "print(s.count(\"s\"))\n",
    "print(s.endswith(\"bi\"))\n",
    "print(s.find(\"o\"))\n",
    "print(s.find(\"o\",5))\n",
    "print(s.replace(\"i\",'1'))\n",
    "a=\"shibi9502\"\n",
    "print(a.isupper())\n",
    "print(a.islower())\n",
    "print(a.isalnum())\n",
    "print(a.isalpha())\n",
    "s=\"shibi/nsaran\"\n",
    "print(s)\n",
    "print(s.splitlines())\n",
    "print(s.splitlines(True))\n",
    "a=\"shibi saran in MCA student\"\n",
    "print(a.split(\" \"))\n",
    "s=\"    shibi    \"\n",
    "print(len(s))\n",
    "print(len(s.strip()))\n",
    "print(len(s.lstrip()))\n",
    "print(len(s.rstrip()))\n",
    "s='09-05-3002'\n",
    "print(s.partition('-'))"
   ]
  },
  {
   "cell_type": "code",
   "execution_count": null,
   "metadata": {},
   "outputs": [],
   "source": [
    "days=int(input(\"How many days have you late: \"))\n",
    "if (days<=5 and days>0):\n",
    "    print(days*0.5)\n",
    "elif(days>5 and days<=10):\n",
    "    print(days*1)\n",
    "elif(days>10 and days<=30):\n",
    "    print(days*5)\n",
    "else:\n",
    "    print(\"Membership is Cancelled\")\n"
   ]
  },
  {
   "cell_type": "code",
   "execution_count": null,
   "metadata": {},
   "outputs": [],
   "source": []
  },
  {
   "cell_type": "code",
   "execution_count": 1,
   "metadata": {},
   "outputs": [
    {
     "name": "stdout",
     "output_type": "stream",
     "text": [
      "5000\n"
     ]
    }
   ],
   "source": [
    "class item():\n",
    "    def calculate_total_price(self,x,y):\n",
    "        return x*y\n",
    "Item=item()\n",
    "Item.name=\"Mobile\"\n",
    "Item.quantity=5\n",
    "Item.price=1000\n",
    "print(Item.calculate_total_price(Item.quantity, Item.price))"
   ]
  },
  {
   "cell_type": "code",
   "execution_count": 4,
   "metadata": {},
   "outputs": [
    {
     "name": "stdout",
     "output_type": "stream",
     "text": [
      "shibi saran\n",
      "2025\n",
      "Welcome shibi saran ! You will graduate in 2025\n"
     ]
    }
   ],
   "source": [
    "class person:\n",
    "    def __init__(self,fname,lname):\n",
    "        self.fname=fname\n",
    "        self.lname=lname\n",
    "    def printname(self):\n",
    "            print(self.fname,self.lname)\n",
    "class student(person):\n",
    "    def __init__(self, fname, lname,year):\n",
    "        super().__init__(fname,lname)\n",
    "        self.graduationyear = year\n",
    "    def welcome(self):\n",
    "        print(\"Welcome\",self.fname,self.lname,\"! You will graduate in\",self.graduationyear)\n",
    "x=student(\"shibi\",\"saran\",2025)\n",
    "x.printname()\n",
    "print(x.graduationyear)\n",
    "x.welcome()"
   ]
  },
  {
   "cell_type": "code",
   "execution_count": null,
   "metadata": {},
   "outputs": [],
   "source": [
    "class str:\n",
    "    def __init__(self,a):\n",
    "        self.a=a\n",
    "    def __lt__(self,object):\n",
    "        return"
   ]
  }
 ],
 "metadata": {
  "kernelspec": {
   "display_name": "Python 3",
   "language": "python",
   "name": "python3"
  },
  "language_info": {
   "codemirror_mode": {
    "name": "ipython",
    "version": 3
   },
   "file_extension": ".py",
   "mimetype": "text/x-python",
   "name": "python",
   "nbconvert_exporter": "python",
   "pygments_lexer": "ipython3",
   "version": "3.12.6"
  }
 },
 "nbformat": 4,
 "nbformat_minor": 2
}
